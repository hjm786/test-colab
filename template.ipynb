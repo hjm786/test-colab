{
  "nbformat": 4,
  "nbformat_minor": 0,
  "metadata": {
    "colab": {
      "name": "intro.ipynb",
      "provenance": [],
      "collapsed_sections": [],
      "toc_visible": true,
      "authorship_tag": "ABX9TyNaK2Dq2S4NMBohdRk+7ARR",
      "include_colab_link": true
    },
    "kernelspec": {
      "name": "python3",
      "display_name": "Python 3"
    },
    "language_info": {
      "name": "python"
    }
  },
  "cells": [
    {
      "cell_type": "markdown",
      "metadata": {
        "id": "view-in-github",
        "colab_type": "text"
      },
      "source": [
        "<a href=\"https://colab.research.google.com/github/hjm786/test-colab/blob/main/template.ipynb\" target=\"_parent\"><img src=\"https://colab.research.google.com/assets/colab-badge.svg\" alt=\"Open In Colab\"/></a>"
      ]
    },
    {
      "cell_type": "markdown",
      "source": [
        "### SALES"
      ],
      "metadata": {
        "id": "0ikwVUmpisW4"
      }
    },
    {
      "cell_type": "code",
      "source": [
        "agi = 130000\n",
        "tax_rate = 0.25\n",
        "income_tax = agi * tax_rate\n",
        "taxed_income = agi - income_tax\n",
        "print (\"AGI: $\", agi)\n",
        "print (\"Tax Rate: \", tax_rate * 100, \"%\")\n",
        "print (\"Income Tax: $\", income_tax) \n",
        "print (\"After Taxes: $\", taxed_income)"
      ],
      "metadata": {
        "id": "nrVZA-CAfw0f",
        "outputId": "dbcd3cc7-986c-44c9-823e-09cef30003b8",
        "colab": {
          "base_uri": "https://localhost:8080/"
        }
      },
      "execution_count": 11,
      "outputs": [
        {
          "output_type": "stream",
          "name": "stdout",
          "text": [
            "AGI: $ 130000\n",
            "Tax Rate:  25.0 %\n",
            "Income Tax: $ 32500.0\n",
            "After Taxes: $ 97500.0\n"
          ]
        }
      ]
    },
    {
      "cell_type": "markdown",
      "source": [
        "### Summary ###"
      ],
      "metadata": {
        "id": "6otORApUizHn"
      }
    },
    {
      "cell_type": "code",
      "source": [
        ""
      ],
      "metadata": {
        "id": "DP474T9Di7EA"
      },
      "execution_count": null,
      "outputs": []
    }
  ]
}